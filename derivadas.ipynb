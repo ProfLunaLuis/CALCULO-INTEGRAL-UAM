{
  "nbformat": 4,
  "nbformat_minor": 0,
  "metadata": {
    "colab": {
      "provenance": [],
      "authorship_tag": "ABX9TyOrUNq/GE5se3k4Vqi8SYLy",
      "include_colab_link": true
    },
    "kernelspec": {
      "name": "python3",
      "display_name": "Python 3"
    },
    "language_info": {
      "name": "python"
    }
  },
  "cells": [
    {
      "cell_type": "markdown",
      "metadata": {
        "id": "view-in-github",
        "colab_type": "text"
      },
      "source": [
        "<a href=\"https://colab.research.google.com/github/ProfLunaLuis/CALCULO-INTEGRAL-UAM/blob/main/derivadas.ipynb\" target=\"_parent\"><img src=\"https://colab.research.google.com/assets/colab-badge.svg\" alt=\"Open In Colab\"/></a>"
      ]
    },
    {
      "cell_type": "code",
      "execution_count": 15,
      "metadata": {
        "id": "pBnpVJRiirCW"
      },
      "outputs": [],
      "source": [
        "from sympy import *\n",
        "x,y,z=symbols('x y z')\n",
        "f=x**3+3*x**2+5*x\n"
      ]
    },
    {
      "cell_type": "code",
      "source": [
        "display(f)"
      ],
      "metadata": {
        "colab": {
          "base_uri": "https://localhost:8080/",
          "height": 39
        },
        "id": "QJbpXIEbjsWZ",
        "outputId": "89fd4274-fd93-403d-b515-ee6fd81ee598"
      },
      "execution_count": 16,
      "outputs": [
        {
          "output_type": "display_data",
          "data": {
            "text/plain": [
              "x**3 + 3*x**2 + 5*x"
            ],
            "text/latex": "$\\displaystyle x^{3} + 3 x^{2} + 5 x$"
          },
          "metadata": {}
        }
      ]
    },
    {
      "cell_type": "code",
      "source": [
        "r1=diff(f,x,4)\n",
        "display(r1)"
      ],
      "metadata": {
        "colab": {
          "base_uri": "https://localhost:8080/",
          "height": 37
        },
        "id": "MBA3CMeQj1iu",
        "outputId": "8f62f81f-4068-4a1b-ff19-e0109d959e2f"
      },
      "execution_count": 17,
      "outputs": [
        {
          "output_type": "display_data",
          "data": {
            "text/plain": [
              "0"
            ],
            "text/latex": "$\\displaystyle 0$"
          },
          "metadata": {}
        }
      ]
    }
  ]
}